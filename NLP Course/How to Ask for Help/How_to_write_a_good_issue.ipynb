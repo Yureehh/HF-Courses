{
  "cells": [
    {
      "cell_type": "markdown",
      "metadata": {
        "id": "3NDhqvysWPN9"
      },
      "source": [
        "# How to write a good issue"
      ]
    },
    {
      "cell_type": "markdown",
      "metadata": {
        "id": "NCPWFfytWPN_"
      },
      "source": [
        "Install the Transformers, Datasets, and Evaluate libraries to run this notebook."
      ]
    },
    {
      "cell_type": "code",
      "execution_count": null,
      "metadata": {
        "id": "lgBinCq_WPN_"
      },
      "outputs": [],
      "source": [
        "!pip install datasets evaluate transformers[sentencepiece]"
      ]
    },
    {
      "cell_type": "code",
      "execution_count": null,
      "metadata": {
        "id": "roKfg23XWPN_"
      },
      "outputs": [],
      "source": []
    }
  ],
  "metadata": {
    "colab": {
      "name": "How to write a good issue",
      "provenance": []
    }
  },
  "nbformat": 4,
  "nbformat_minor": 0
}