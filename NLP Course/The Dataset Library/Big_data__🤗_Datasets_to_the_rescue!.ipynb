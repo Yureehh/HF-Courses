{
  "cells": [
    {
      "cell_type": "markdown",
      "metadata": {
        "id": "xqex6SNnIr8i"
      },
      "source": [
        "# Big data? 🤗 Datasets to the rescue!"
      ]
    },
    {
      "cell_type": "markdown",
      "metadata": {
        "id": "lSpTM0MLIr8j"
      },
      "source": [
        "Install the Transformers, Datasets, and Evaluate libraries to run this notebook."
      ]
    },
    {
      "cell_type": "code",
      "execution_count": null,
      "metadata": {
        "id": "dlzzg432Ir8j"
      },
      "outputs": [],
      "source": [
        "!pip install datasets evaluate transformers[sentencepiece]"
      ]
    },
    {
      "cell_type": "code",
      "execution_count": null,
      "metadata": {
        "id": "nF6Vs6YjIr8k"
      },
      "outputs": [],
      "source": [
        "!pip install zstandard"
      ]
    },
    {
      "cell_type": "code",
      "execution_count": null,
      "metadata": {
        "id": "cUDn_phtIr8k",
        "outputId": "d3509b2b-f8f3-4128-8ba0-af92d3ad79d3"
      },
      "outputs": [
        {
          "data": {
            "text/plain": [
              "Dataset({\n",
              "    features: ['meta', 'text'],\n",
              "    num_rows: 15518009\n",
              "})"
            ]
          },
          "execution_count": null,
          "metadata": {},
          "output_type": "execute_result"
        }
      ],
      "source": [
        "from datasets import load_dataset\n",
        "\n",
        "# This takes a few minutes to run, so go grab a tea or coffee while you wait :)\n",
        "data_files = \"https://the-eye.eu/public/AI/pile_preliminary_components/PUBMED_title_abstracts_2019_baseline.jsonl.zst\"\n",
        "pubmed_dataset = load_dataset(\"json\", data_files=data_files, split=\"train\")\n",
        "pubmed_dataset"
      ]
    },
    {
      "cell_type": "code",
      "execution_count": null,
      "metadata": {
        "id": "qdOcH283Ir8k",
        "outputId": "19b5e9e8-95a7-46d8-8fc1-168a85e8c1de"
      },
      "outputs": [
        {
          "data": {
            "text/plain": [
              "{'meta': {'pmid': 11409574, 'language': 'eng'},\n",
              " 'text': 'Epidemiology of hypoxaemia in children with acute lower respiratory infection.\\nTo determine the prevalence of hypoxaemia in children aged under 5 years suffering acute lower respiratory infections (ALRI), the risk factors for hypoxaemia in children under 5 years of age with ALRI, and the association of hypoxaemia with an increased risk of dying in children of the same age ...'}"
            ]
          },
          "execution_count": null,
          "metadata": {},
          "output_type": "execute_result"
        }
      ],
      "source": [
        "pubmed_dataset[0]"
      ]
    },
    {
      "cell_type": "code",
      "execution_count": null,
      "metadata": {
        "id": "sfb0lq3BIr8l"
      },
      "outputs": [],
      "source": [
        "!pip install psutil"
      ]
    },
    {
      "cell_type": "code",
      "execution_count": null,
      "metadata": {
        "id": "eO-_xJMMIr8l",
        "outputId": "0e11a804-9609-4227-e7ea-34ece5218755"
      },
      "outputs": [
        {
          "data": {
            "text/plain": [
              "RAM used: 5678.33 MB"
            ]
          },
          "execution_count": null,
          "metadata": {},
          "output_type": "execute_result"
        }
      ],
      "source": [
        "import psutil\n",
        "\n",
        "# Process.memory_info is expressed in bytes, so convert to megabytes\n",
        "print(f\"RAM used: {psutil.Process().memory_info().rss / (1024 * 1024):.2f} MB\")"
      ]
    },
    {
      "cell_type": "code",
      "execution_count": null,
      "metadata": {
        "id": "UQ-1T01cIr8l",
        "outputId": "3f29d617-f107-4c26-d9f3-ddc571447d17"
      },
      "outputs": [
        {
          "data": {
            "text/plain": [
              "Number of files in dataset : 20979437051\n",
              "Dataset size (cache file) : 19.54 GB"
            ]
          },
          "execution_count": null,
          "metadata": {},
          "output_type": "execute_result"
        }
      ],
      "source": [
        "print(f\"Number of files in dataset : {pubmed_dataset.dataset_size}\")\n",
        "size_gb = pubmed_dataset.dataset_size / (1024**3)\n",
        "print(f\"Dataset size (cache file) : {size_gb:.2f} GB\")"
      ]
    },
    {
      "cell_type": "code",
      "execution_count": null,
      "metadata": {
        "id": "3xUpf1m5Ir8l",
        "outputId": "75665864-4367-4068-9ce3-609ee876feea"
      },
      "outputs": [
        {
          "data": {
            "text/plain": [
              "'Iterated over 15518009 examples (about 19.5 GB) in 64.2s, i.e. 0.304 GB/s'"
            ]
          },
          "execution_count": null,
          "metadata": {},
          "output_type": "execute_result"
        }
      ],
      "source": [
        "import timeit\n",
        "\n",
        "code_snippet = \"\"\"batch_size = 1000\n",
        "\n",
        "for idx in range(0, len(pubmed_dataset), batch_size):\n",
        "    _ = pubmed_dataset[idx:idx + batch_size]\n",
        "\"\"\"\n",
        "\n",
        "time = timeit.timeit(stmt=code_snippet, number=1, globals=globals())\n",
        "print(\n",
        "    f\"Iterated over {len(pubmed_dataset)} examples (about {size_gb:.1f} GB) in \"\n",
        "    f\"{time:.1f}s, i.e. {size_gb/time:.3f} GB/s\"\n",
        ")"
      ]
    },
    {
      "cell_type": "code",
      "execution_count": null,
      "metadata": {
        "id": "LzEXxf6SIr8m"
      },
      "outputs": [],
      "source": [
        "pubmed_dataset_streamed = load_dataset(\n",
        "    \"json\", data_files=data_files, split=\"train\", streaming=True\n",
        ")"
      ]
    },
    {
      "cell_type": "code",
      "execution_count": null,
      "metadata": {
        "id": "dWedymqaIr8m",
        "outputId": "cb5634ee-db4c-4162-adae-8954f6acad64"
      },
      "outputs": [
        {
          "data": {
            "text/plain": [
              "{'meta': {'pmid': 11409574, 'language': 'eng'},\n",
              " 'text': 'Epidemiology of hypoxaemia in children with acute lower respiratory infection.\\nTo determine the prevalence of hypoxaemia in children aged under 5 years suffering acute lower respiratory infections (ALRI), the risk factors for hypoxaemia in children under 5 years of age with ALRI, and the association of hypoxaemia with an increased risk of dying in children of the same age ...'}"
            ]
          },
          "execution_count": null,
          "metadata": {},
          "output_type": "execute_result"
        }
      ],
      "source": [
        "next(iter(pubmed_dataset_streamed))"
      ]
    },
    {
      "cell_type": "code",
      "execution_count": null,
      "metadata": {
        "id": "qFMYyVz3Ir8m",
        "outputId": "d086bda4-cb6a-4110-872f-2e582fd644ae"
      },
      "outputs": [
        {
          "data": {
            "text/plain": [
              "{'input_ids': [101, 4958, 5178, 4328, 6779, ...], 'attention_mask': [1, 1, 1, 1, 1, ...]}"
            ]
          },
          "execution_count": null,
          "metadata": {},
          "output_type": "execute_result"
        }
      ],
      "source": [
        "from transformers import AutoTokenizer\n",
        "\n",
        "tokenizer = AutoTokenizer.from_pretrained(\"distilbert-base-uncased\")\n",
        "tokenized_dataset = pubmed_dataset_streamed.map(lambda x: tokenizer(x[\"text\"]))\n",
        "next(iter(tokenized_dataset))"
      ]
    },
    {
      "cell_type": "code",
      "execution_count": null,
      "metadata": {
        "id": "b_qt1AmFIr8m",
        "outputId": "fea7f6ee-2c9f-439f-9900-fb322fd17401"
      },
      "outputs": [
        {
          "data": {
            "text/plain": [
              "{'meta': {'pmid': 11410799, 'language': 'eng'},\n",
              " 'text': 'Randomized study of dose or schedule modification of granulocyte colony-stimulating factor in platinum-based chemotherapy for elderly patients with lung cancer ...'}"
            ]
          },
          "execution_count": null,
          "metadata": {},
          "output_type": "execute_result"
        }
      ],
      "source": [
        "shuffled_dataset = pubmed_dataset_streamed.shuffle(buffer_size=10_000, seed=42)\n",
        "next(iter(shuffled_dataset))"
      ]
    },
    {
      "cell_type": "code",
      "execution_count": null,
      "metadata": {
        "id": "chBulCHYIr8m",
        "outputId": "2c53c714-1121-4ead-fc77-3a7ffa292a4b"
      },
      "outputs": [
        {
          "data": {
            "text/plain": [
              "[{'meta': {'pmid': 11409574, 'language': 'eng'},\n",
              "  'text': 'Epidemiology of hypoxaemia in children with acute lower respiratory infection ...'},\n",
              " {'meta': {'pmid': 11409575, 'language': 'eng'},\n",
              "  'text': 'Clinical signs of hypoxaemia in children with acute lower respiratory infection: indicators of oxygen therapy ...'},\n",
              " {'meta': {'pmid': 11409576, 'language': 'eng'},\n",
              "  'text': \"Hypoxaemia in children with severe pneumonia in Papua New Guinea ...\"},\n",
              " {'meta': {'pmid': 11409577, 'language': 'eng'},\n",
              "  'text': 'Oxygen concentrators and cylinders ...'},\n",
              " {'meta': {'pmid': 11409578, 'language': 'eng'},\n",
              "  'text': 'Oxygen supply in rural africa: a personal experience ...'}]"
            ]
          },
          "execution_count": null,
          "metadata": {},
          "output_type": "execute_result"
        }
      ],
      "source": [
        "dataset_head = pubmed_dataset_streamed.take(5)\n",
        "list(dataset_head)"
      ]
    },
    {
      "cell_type": "code",
      "execution_count": null,
      "metadata": {
        "id": "iIiuUqwAIr8m"
      },
      "outputs": [],
      "source": [
        "# Skip the first 1,000 examples and include the rest in the training set\n",
        "train_dataset = shuffled_dataset.skip(1000)\n",
        "# Take the first 1,000 examples for the validation set\n",
        "validation_dataset = shuffled_dataset.take(1000)"
      ]
    },
    {
      "cell_type": "code",
      "execution_count": null,
      "metadata": {
        "id": "OseNf-gJIr8m",
        "outputId": "f6115411-f156-4951-bf79-85b0ceab6be4"
      },
      "outputs": [
        {
          "data": {
            "text/plain": [
              "{'meta': {'case_ID': '110921.json',\n",
              "  'case_jurisdiction': 'scotus.tar.gz',\n",
              "  'date_created': '2010-04-28T17:12:49Z'},\n",
              " 'text': '\\n461 U.S. 238 (1983)\\nOLIM ET AL.\\nv.\\nWAKINEKONA\\nNo. 81-1581.\\nSupreme Court of United States.\\nArgued January 19, 1983.\\nDecided April 26, 1983.\\nCERTIORARI TO THE UNITED STATES COURT OF APPEALS FOR THE NINTH CIRCUIT\\n*239 Michael A. Lilly, First Deputy Attorney General of Hawaii, argued the cause for petitioners. With him on the brief was James H. Dannenberg, Deputy Attorney General...'}"
            ]
          },
          "execution_count": null,
          "metadata": {},
          "output_type": "execute_result"
        }
      ],
      "source": [
        "law_dataset_streamed = load_dataset(\n",
        "    \"json\",\n",
        "    data_files=\"https://the-eye.eu/public/AI/pile_preliminary_components/FreeLaw_Opinions.jsonl.zst\",\n",
        "    split=\"train\",\n",
        "    streaming=True,\n",
        ")\n",
        "next(iter(law_dataset_streamed))"
      ]
    },
    {
      "cell_type": "code",
      "execution_count": null,
      "metadata": {
        "id": "0OQFcDA_Ir8m",
        "outputId": "b6c668c0-8634-4324-ca38-92d65dc1ebd4"
      },
      "outputs": [
        {
          "data": {
            "text/plain": [
              "[{'meta': {'pmid': 11409574, 'language': 'eng'},\n",
              "  'text': 'Epidemiology of hypoxaemia in children with acute lower respiratory infection ...'},\n",
              " {'meta': {'case_ID': '110921.json',\n",
              "   'case_jurisdiction': 'scotus.tar.gz',\n",
              "   'date_created': '2010-04-28T17:12:49Z'},\n",
              "  'text': '\\n461 U.S. 238 (1983)\\nOLIM ET AL.\\nv.\\nWAKINEKONA\\nNo. 81-1581.\\nSupreme Court of United States.\\nArgued January 19, 1983.\\nDecided April 26, 1983.\\nCERTIORARI TO THE UNITED STATES COURT OF APPEALS FOR THE NINTH CIRCUIT\\n*239 Michael A. Lilly, First Deputy Attorney General of Hawaii, argued the cause for petitioners. With him on the brief was James H. Dannenberg, Deputy Attorney General...'}]"
            ]
          },
          "execution_count": null,
          "metadata": {},
          "output_type": "execute_result"
        }
      ],
      "source": [
        "from itertools import islice\n",
        "from datasets import interleave_datasets\n",
        "\n",
        "combined_dataset = interleave_datasets([pubmed_dataset_streamed, law_dataset_streamed])\n",
        "list(islice(combined_dataset, 2))"
      ]
    },
    {
      "cell_type": "code",
      "execution_count": null,
      "metadata": {
        "id": "oiiu9RhTIr8m",
        "outputId": "4ccc6edf-3a8f-4d02-b13c-e6531b6c874a"
      },
      "outputs": [
        {
          "data": {
            "text/plain": [
              "{'meta': {'pile_set_name': 'Pile-CC'},\n",
              " 'text': 'It is done, and submitted. You can play “Survival of the Tastiest” on Android, and on the web...'}"
            ]
          },
          "execution_count": null,
          "metadata": {},
          "output_type": "execute_result"
        }
      ],
      "source": [
        "base_url = \"https://the-eye.eu/public/AI/pile/\"\n",
        "data_files = {\n",
        "    \"train\": [base_url + \"train/\" + f\"{idx:02d}.jsonl.zst\" for idx in range(30)],\n",
        "    \"validation\": base_url + \"val.jsonl.zst\",\n",
        "    \"test\": base_url + \"test.jsonl.zst\",\n",
        "}\n",
        "pile_dataset = load_dataset(\"json\", data_files=data_files, streaming=True)\n",
        "next(iter(pile_dataset[\"train\"]))"
      ]
    }
  ],
  "metadata": {
    "colab": {
      "name": "Big data? 🤗 Datasets to the rescue!",
      "provenance": []
    }
  },
  "nbformat": 4,
  "nbformat_minor": 0
}